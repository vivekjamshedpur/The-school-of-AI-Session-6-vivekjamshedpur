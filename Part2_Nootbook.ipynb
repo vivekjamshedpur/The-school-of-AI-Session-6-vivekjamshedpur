{
 "cells": [
  {
   "cell_type": "code",
   "execution_count": null,
   "metadata": {},
   "outputs": [],
   "source": [
    "# %load Part2.py\n",
    "#Assignment-2\n",
    "#Problem-1: Write a function using only list filter lambda that can tell whether a number is a Fibonacci number or not.\n",
    "#You can use a pre-calculated list/dict to store fab numbers till 10000\n",
    "\n",
    "from functools import reduce\n",
    "fib = lambda n: reduce(lambda x, _: x+[x[-1]+x[-2]], range(n-2), [0, 1])\n",
    "fb = fib(21)\n",
    "print(\"Problem1: Write a function using only list filter lambda that can tell whether a number is a Fibonacci number or not.\")\n",
    "while True:\n",
    "  try:\n",
    "    fnd = int(input(\"please Enter a number to check if it is a fibonacci number:\" ))\n",
    "  except ValueError:\n",
    "    print(\"Please provide valid integer input\")\n",
    "    continue\n",
    "  else:\n",
    "    break\n",
    "if fnd in fb:\n",
    "  print(\"Given number is fibonacci\")\n",
    "else:\n",
    "  print(\"Given number is not fibonacci\")\n",
    "\n",
    "print('*********************************************************************************************************************')\n",
    "######################## End of Problem.1 #########################################################################\n",
    "#Problem-2:\n",
    "#Sub-1:Using list comprehension (and zip/lambda/etc if required) write expressions that\n",
    "#add 2 iterables a and b such that a is even and b is odd\n",
    "print(\"Problem-2:Sub-1: Using list comprehension write expressions that add 2 iterables a and b such that a is even and b is odd\")\n",
    "list_even = [2,4,6,8,10,12,14,16]\n",
    "print(\"Even numbered List:\")\n",
    "print(*list_even, sep = \", \")\n",
    "print(\"Odd numbered List:\")\n",
    "list_odd = [1,3,5,7,9,11,13,15]\n",
    "print(*list_odd, sep = \", \")\n",
    "print(\"Result after adding even and odd list\")\n",
    "print([x+y for x,y in zip(list_even,list_odd)])\n",
    "print('*********************************************************************************************************************')\n",
    "######################## End of Problem.2 ########################################################################\n",
    "#Sub-2:\n",
    "#strips every vowel from a string provided (tsai>>t s)\n",
    "\n",
    "print('*********************************************************************************************************************')\n",
    "######################## End of Problem.3 ########################################################################\n",
    "\n",
    "#Sub-3:\n",
    "#acts like a sigmoid function for a 1D array\n",
    "\n",
    "print('*********************************************************************************************************************')\n",
    "######################## End of Problem.4 ########################################################################\n",
    "\n",
    "#Sub-4:\n",
    "#takes a small character string and shifts all characters by 5 (handle boundary conditions) tsai>>yxfn\n",
    "print(\"Problem-2:Sub-4 takes a small character string and shifts all characters by 5 (handle boundary conditions)\")\n",
    "\n",
    "abc = 'abcdefghijklmnopqrstuvwxyz'\n",
    "def encrypt(msg, n=5):\n",
    "  msg = ''.join(map(lambda x:abc[(abc.index(x)+n)%26] if x in abc else x, msg))\n",
    "  return msg\n",
    "\n",
    "msg = input(\"Please enter character string:\")\n",
    "print('Resultent characters after shifting all characters by 5: %s'%(encrypt(msg)))\n",
    "print('*********************************************************************************************************************')\n",
    "######################## End of Problem.5 ########################################################################\n"
   ]
  },
  {
   "cell_type": "code",
   "execution_count": 11,
   "metadata": {},
   "outputs": [
    {
     "name": "stdout",
     "output_type": "stream",
     "text": [
      "Problem1: Write a function using only list filter lambda that can tell whether a number is a Fibonacci number or not.\n",
      "please Enter a number to check if it is a fibonacci number:89\n",
      "Given number is fibonacci\n",
      "*********************************************************************************************************************\n",
      "Problem-2:Sub-1: Using list comprehension write expressions that add 2 iterables a and b such that a is even and b is odd\n",
      "Even numbered List:\n",
      "2, 4, 6, 8, 10, 12, 14, 16\n",
      "Odd numbered List:\n",
      "1, 3, 5, 7, 9, 11, 13, 15\n",
      "Result after adding even and odd list\n",
      "[3, 7, 11, 15, 19, 23, 27, 31]\n",
      "*********************************************************************************************************************\n",
      "*********************************************************************************************************************\n",
      "*********************************************************************************************************************\n",
      "Problem-2:Sub-4 takes a small character string and shifts all characters by 5 (handle boundary conditions)\n",
      "Please enter character string:qwqwqwqw\n",
      "Resultent characters after shifting all characters by 5: vbvbvbvb\n",
      "*********************************************************************************************************************\n"
     ]
    }
   ],
   "source": [
    "%run Part2.py"
   ]
  },
  {
   "cell_type": "code",
   "execution_count": null,
   "metadata": {},
   "outputs": [],
   "source": []
  }
 ],
 "metadata": {
  "kernelspec": {
   "display_name": "Python 3",
   "language": "python",
   "name": "python3"
  },
  "language_info": {
   "codemirror_mode": {
    "name": "ipython",
    "version": 3
   },
   "file_extension": ".py",
   "mimetype": "text/x-python",
   "name": "python",
   "nbconvert_exporter": "python",
   "pygments_lexer": "ipython3",
   "version": "3.7.3"
  }
 },
 "nbformat": 4,
 "nbformat_minor": 2
}
