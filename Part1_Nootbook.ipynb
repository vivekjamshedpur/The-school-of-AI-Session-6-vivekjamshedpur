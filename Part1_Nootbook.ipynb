{
 "cells": [
  {
   "cell_type": "code",
   "execution_count": null,
   "metadata": {},
   "outputs": [],
   "source": [
    "# %load Part1.py\n",
    "vals  = ['2' , '3' , '4' , '5' , '6' , '7' , '8' , '9' , '10' , 'jack' , 'queen' , 'king' , 'ace']\n",
    "suits = [ 'spades' , 'clubs' , 'hearts' , 'diamonds' ]\n",
    "\n",
    "#Write a normal function without using lambda, zip, and map function to create 52 cards in a deck\n",
    "def Deck(list1, list2):\n",
    "  pack_Deck = [(list1[i], list2[j]) for i in range(0, len(list1)) for j in range(0, len(list2))]\n",
    "  return pack_Deck\n",
    "\n",
    "print(Deck(suits,vals))\n"
   ]
  },
  {
   "cell_type": "code",
   "execution_count": 2,
   "metadata": {},
   "outputs": [
    {
     "name": "stdout",
     "output_type": "stream",
     "text": [
      "[('spades', '2'), ('spades', '3'), ('spades', '4'), ('spades', '5'), ('spades', '6'), ('spades', '7'), ('spades', '8'), ('spades', '9'), ('spades', '10'), ('spades', 'jack'), ('spades', 'queen'), ('spades', 'king'), ('spades', 'ace'), ('clubs', '2'), ('clubs', '3'), ('clubs', '4'), ('clubs', '5'), ('clubs', '6'), ('clubs', '7'), ('clubs', '8'), ('clubs', '9'), ('clubs', '10'), ('clubs', 'jack'), ('clubs', 'queen'), ('clubs', 'king'), ('clubs', 'ace'), ('hearts', '2'), ('hearts', '3'), ('hearts', '4'), ('hearts', '5'), ('hearts', '6'), ('hearts', '7'), ('hearts', '8'), ('hearts', '9'), ('hearts', '10'), ('hearts', 'jack'), ('hearts', 'queen'), ('hearts', 'king'), ('hearts', 'ace'), ('diamonds', '2'), ('diamonds', '3'), ('diamonds', '4'), ('diamonds', '5'), ('diamonds', '6'), ('diamonds', '7'), ('diamonds', '8'), ('diamonds', '9'), ('diamonds', '10'), ('diamonds', 'jack'), ('diamonds', 'queen'), ('diamonds', 'king'), ('diamonds', 'ace')]\n"
     ]
    }
   ],
   "source": [
    "%run Part1.py"
   ]
  },
  {
   "cell_type": "code",
   "execution_count": null,
   "metadata": {},
   "outputs": [],
   "source": []
  }
 ],
 "metadata": {
  "kernelspec": {
   "display_name": "Python 3",
   "language": "python",
   "name": "python3"
  },
  "language_info": {
   "codemirror_mode": {
    "name": "ipython",
    "version": 3
   },
   "file_extension": ".py",
   "mimetype": "text/x-python",
   "name": "python",
   "nbconvert_exporter": "python",
   "pygments_lexer": "ipython3",
   "version": "3.7.3"
  }
 },
 "nbformat": 4,
 "nbformat_minor": 2
}
